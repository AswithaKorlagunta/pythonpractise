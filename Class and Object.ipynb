{
 "cells": [
  {
   "cell_type": "code",
   "execution_count": 10,
   "metadata": {},
   "outputs": [
    {
     "name": "stdout",
     "output_type": "stream",
     "text": [
      "My Car Nameids BMW Age is  89\n"
     ]
    }
   ],
   "source": [
    "# Class And object\n",
    "class Car(object):\n",
    "    def __init__(self,Car_name,Car_age):#Con\n",
    "        self.name=Car_name\n",
    "        self.age=Car_age\n",
    "    def Car_Names(self):#Method\n",
    "        print(\"My Car Nameids \"+self.name,\"Age is \",self.age)\n",
    "obj=Car(\"BMW\",89)\n",
    "obj.Car_Names()"
   ]
  },
  {
   "cell_type": "code",
   "execution_count": 11,
   "metadata": {},
   "outputs": [
    {
     "name": "stdout",
     "output_type": "stream",
     "text": [
      "My Car Nameids BMW Age is  89\n"
     ]
    }
   ],
   "source": [
    "obj.Car_Names()"
   ]
  },
  {
   "cell_type": "code",
   "execution_count": 16,
   "metadata": {},
   "outputs": [
    {
     "name": "stdout",
     "output_type": "stream",
     "text": [
      "My Car Nameids Audi Age is  89\n"
     ]
    }
   ],
   "source": [
    "# Class And object\n",
    "class Car(object):\n",
    "    def __init__(self,Car_name,Car_age):#Con\n",
    "        self.name=Car_name\n",
    "        self.age=Car_age\n",
    "    def Car_Names(self,Car_name):#Method\n",
    "        print(\"My Car Nameids \"+Car_name,\"Age is \",self.age)\n",
    "obj=Car(\"BMW\",89)\n",
    "obj.Car_Names('Audi')"
   ]
  },
  {
   "cell_type": "code",
   "execution_count": 17,
   "metadata": {},
   "outputs": [
    {
     "data": {
      "text/plain": [
       "[__main__.Car, object]"
      ]
     },
     "execution_count": 17,
     "metadata": {},
     "output_type": "execute_result"
    }
   ],
   "source": [
    "Car.mro()"
   ]
  },
  {
   "cell_type": "code",
   "execution_count": 24,
   "metadata": {},
   "outputs": [],
   "source": [
    "class Student(object):\n",
    "    def __init__(self,Student_name,Student_age,Student_Gen,Student_RollNo):#Con\n",
    "        self.name=Student_name\n",
    "        self.age=Student_age\n",
    "        self.Gen=Student_Gen\n",
    "        self.RollNo=Student_RollNo\n",
    "        \n",
    "    def Student_Info(self):#Method\n",
    "        print(\"My Student Name \\n  \"+self.name,\"Age is \",self.age,\"Student Gender \\n \"+self.Gen,\"Student RolollNo\",self.RollNo)\n",
    "S1=Student(\"ABC\",20,\"Male\",1234)"
   ]
  },
  {
   "cell_type": "code",
   "execution_count": 27,
   "metadata": {},
   "outputs": [
    {
     "name": "stdout",
     "output_type": "stream",
     "text": [
      "My Student Nameids ABC Age is  20 Student Gender \n",
      " Male Student RolollNo 1234\n"
     ]
    }
   ],
   "source": [
    "S1.Student_Info()\n"
   ]
  },
  {
   "cell_type": "code",
   "execution_count": 28,
   "metadata": {},
   "outputs": [
    {
     "name": "stdin",
     "output_type": "stream",
     "text": [
      "Please enter the Number 3\n"
     ]
    },
    {
     "name": "stdout",
     "output_type": "stream",
     "text": [
      "odd\n"
     ]
    }
   ],
   "source": [
    "class Fun():\n",
    "    def Even():\n",
    "        a=int(input(\"Please enter the Number\"))\n",
    "        if a%2==0:\n",
    "            print(\"Even\")\n",
    "        else:\n",
    "            print(\"odd\")\n",
    "    Even()\n",
    "obj=Fun()"
   ]
  },
  {
   "cell_type": "code",
   "execution_count": 29,
   "metadata": {},
   "outputs": [
    {
     "data": {
      "text/plain": [
       "<__main__.python at 0x1ed61ca8b70>"
      ]
     },
     "execution_count": 29,
     "metadata": {},
     "output_type": "execute_result"
    }
   ],
   "source": [
    "class python:\n",
    "    x=[5,2,3,4,10,20,30]\n",
    "    y=[2,3,4,5,6]\n",
    "    c=x+y\n",
    "    #print(x)\n",
    "p1=python()\n",
    "p1"
   ]
  },
  {
   "cell_type": "code",
   "execution_count": 30,
   "metadata": {},
   "outputs": [
    {
     "data": {
      "text/plain": [
       "[5, 2, 3, 4, 10, 20, 30, 2, 3, 4, 5, 6]"
      ]
     },
     "execution_count": 30,
     "metadata": {},
     "output_type": "execute_result"
    }
   ],
   "source": [
    "p1.c"
   ]
  },
  {
   "cell_type": "code",
   "execution_count": 31,
   "metadata": {},
   "outputs": [
    {
     "data": {
      "text/plain": [
       "[5, 2, 3, 4, 10, 20, 30]"
      ]
     },
     "execution_count": 31,
     "metadata": {},
     "output_type": "execute_result"
    }
   ],
   "source": [
    "p1.x\n"
   ]
  },
  {
   "cell_type": "code",
   "execution_count": 32,
   "metadata": {},
   "outputs": [
    {
     "data": {
      "text/plain": [
       "[2, 3, 4, 5, 6]"
      ]
     },
     "execution_count": 32,
     "metadata": {},
     "output_type": "execute_result"
    }
   ],
   "source": [
    "p1.y"
   ]
  },
  {
   "cell_type": "code",
   "execution_count": 33,
   "metadata": {},
   "outputs": [
    {
     "data": {
      "text/plain": [
       "[5, 2, 3, 4, 10, 20, 30, 2, 3, 4, 5, 6]"
      ]
     },
     "execution_count": 33,
     "metadata": {},
     "output_type": "execute_result"
    }
   ],
   "source": [
    "p1.x+p1.y"
   ]
  },
  {
   "cell_type": "code",
   "execution_count": 35,
   "metadata": {},
   "outputs": [
    {
     "name": "stdout",
     "output_type": "stream",
     "text": [
      "helloworld\n",
      "hello\n"
     ]
    }
   ],
   "source": [
    "class myclass():\n",
    "    x=\"hello\"\n",
    "    y=\"world\"\n",
    "    z=x+y\n",
    "v=myclass()\n",
    "print(v.z)\n",
    "print(v.x)"
   ]
  },
  {
   "cell_type": "code",
   "execution_count": 48,
   "metadata": {},
   "outputs": [
    {
     "ename": "SyntaxError",
     "evalue": "invalid syntax (<ipython-input-48-d683211f64c3>, line 2)",
     "output_type": "error",
     "traceback": [
      "\u001b[1;36m  File \u001b[1;32m\"<ipython-input-48-d683211f64c3>\"\u001b[1;36m, line \u001b[1;32m2\u001b[0m\n\u001b[1;33m    def fun(int a,int b):\u001b[0m\n\u001b[1;37m                ^\u001b[0m\n\u001b[1;31mSyntaxError\u001b[0m\u001b[1;31m:\u001b[0m invalid syntax\n"
     ]
    }
   ],
   "source": [
    "class Fun:\n",
    "    \n",
    "    def fun(a,b):\n",
    "        return a+b\n",
    "    fun(10,20)"
   ]
  },
  {
   "cell_type": "code",
   "execution_count": 45,
   "metadata": {},
   "outputs": [],
   "source": [
    "obj=Fun()"
   ]
  },
  {
   "cell_type": "code",
   "execution_count": 47,
   "metadata": {},
   "outputs": [
    {
     "ename": "TypeError",
     "evalue": "unsupported operand type(s) for +: 'Fun' and 'int'",
     "output_type": "error",
     "traceback": [
      "\u001b[1;31m---------------------------------------------------------------------------\u001b[0m",
      "\u001b[1;31mTypeError\u001b[0m                                 Traceback (most recent call last)",
      "\u001b[1;32m<ipython-input-47-6c04cdcc414a>\u001b[0m in \u001b[0;36m<module>\u001b[1;34m\u001b[0m\n\u001b[1;32m----> 1\u001b[1;33m \u001b[0mobj\u001b[0m\u001b[1;33m.\u001b[0m\u001b[0mfun\u001b[0m\u001b[1;33m(\u001b[0m\u001b[1;36m5\u001b[0m\u001b[1;33m)\u001b[0m\u001b[1;33m\u001b[0m\u001b[1;33m\u001b[0m\u001b[0m\n\u001b[0m",
      "\u001b[1;32m<ipython-input-44-c0b10dfd2069>\u001b[0m in \u001b[0;36mfun\u001b[1;34m(a, b)\u001b[0m\n\u001b[0;32m      1\u001b[0m \u001b[1;32mclass\u001b[0m \u001b[0mFun\u001b[0m\u001b[1;33m:\u001b[0m\u001b[1;33m\u001b[0m\u001b[1;33m\u001b[0m\u001b[0m\n\u001b[0;32m      2\u001b[0m     \u001b[1;32mdef\u001b[0m \u001b[0mfun\u001b[0m\u001b[1;33m(\u001b[0m\u001b[0ma\u001b[0m\u001b[1;33m,\u001b[0m\u001b[0mb\u001b[0m\u001b[1;33m)\u001b[0m\u001b[1;33m:\u001b[0m\u001b[1;33m\u001b[0m\u001b[1;33m\u001b[0m\u001b[0m\n\u001b[1;32m----> 3\u001b[1;33m         \u001b[1;32mreturn\u001b[0m \u001b[0ma\u001b[0m\u001b[1;33m+\u001b[0m\u001b[0mb\u001b[0m\u001b[1;33m\u001b[0m\u001b[1;33m\u001b[0m\u001b[0m\n\u001b[0m\u001b[0;32m      4\u001b[0m     \u001b[0mfun\u001b[0m\u001b[1;33m(\u001b[0m\u001b[1;36m10\u001b[0m\u001b[1;33m,\u001b[0m\u001b[1;36m20\u001b[0m\u001b[1;33m)\u001b[0m\u001b[1;33m\u001b[0m\u001b[1;33m\u001b[0m\u001b[0m\n",
      "\u001b[1;31mTypeError\u001b[0m: unsupported operand type(s) for +: 'Fun' and 'int'"
     ]
    }
   ],
   "source": [
    "obj.fun(5)"
   ]
  },
  {
   "cell_type": "code",
   "execution_count": 50,
   "metadata": {},
   "outputs": [
    {
     "name": "stdout",
     "output_type": "stream",
     "text": [
      "blu is a bird\n",
      "woo ia a bird\n",
      "blu is 10 years old\n",
      "woo is 15 years old\n"
     ]
    }
   ],
   "source": [
    "class parrot():\n",
    "    # Class Attribute\n",
    "    species=\"bird\"\n",
    "    #instance the parrot class\n",
    "    def __init__(self,name,age):\n",
    "        self.name=name\n",
    "        self.age=age\n",
    "#instance the parrot class\n",
    "blu=parrot(\"blu\",10)\n",
    "woo=parrot(\"woo\",15)\n",
    "# access the class attributes\n",
    "#print(\"blu is a {}\".format(blu.__class__.species))\n",
    "print(\"blu is a {}\".format(blu.species))\n",
    "print(\"woo ia a {}\".format(woo.__class__.species))\n",
    "#access theinstance attributes\n",
    "print(\"{} is {} years old\".format(blu.name,blu.age))\n",
    "print(\"{} is {} years old\".format(woo.name,woo.age))"
   ]
  },
  {
   "cell_type": "code",
   "execution_count": 2,
   "metadata": {},
   "outputs": [
    {
     "name": "stdout",
     "output_type": "stream",
     "text": [
      "Additionof two numbers 5\n"
     ]
    }
   ],
   "source": [
    "#Without init \n",
    "class add:\n",
    "    x=2\n",
    "    y=3\n",
    "    z=x+y\n",
    "    def __init__(MySilliobject,x):\n",
    "        MySilliobject.x=x\n",
    "    def Data(abc):\n",
    "        print(\"data is \",abc.x)\n",
    "p1=add(10)\n",
    "print(\"Additionof two numbers\",p1.z)"
   ]
  },
  {
   "cell_type": "code",
   "execution_count": 3,
   "metadata": {},
   "outputs": [
    {
     "name": "stdout",
     "output_type": "stream",
     "text": [
      "data is  10\n"
     ]
    }
   ],
   "source": [
    "p1.Data()"
   ]
  },
  {
   "cell_type": "code",
   "execution_count": 9,
   "metadata": {},
   "outputs": [],
   "source": [
    "# * arg--argumets-- * unpacking operator , ** kwarg-Key word arugument --it willtakemultiple parameters at a time and passess into themethod.. \n",
    "\n",
    "class Student(object):\n",
    "    def __init__(self,Student_name,Student_age,Student_Gen,Student_RollNo):#Con\n",
    "        self.name=Student_name\n",
    "        self.age=Student_age\n",
    "        self.Gen=Student_Gen\n",
    "        self.RollNo=Student_RollNo\n",
    "        \n",
    "    def Student_Info(*arg):\n",
    "        #Method \n",
    "        for i in arg:\n",
    "            print(\"My Student Name \\n  \"+arg[i])\n",
    "S1=Student(\"ABC\",20,\"Male\",1234)\n",
    "\n",
    "\n"
   ]
  },
  {
   "cell_type": "code",
   "execution_count": 10,
   "metadata": {},
   "outputs": [
    {
     "ename": "TypeError",
     "evalue": "tuple indices must be integers or slices, not Student",
     "output_type": "error",
     "traceback": [
      "\u001b[1;31m---------------------------------------------------------------------------\u001b[0m",
      "\u001b[1;31mTypeError\u001b[0m                                 Traceback (most recent call last)",
      "\u001b[1;32m<ipython-input-10-d610db1b9ba8>\u001b[0m in \u001b[0;36m<module>\u001b[1;34m\u001b[0m\n\u001b[1;32m----> 1\u001b[1;33m \u001b[0mS1\u001b[0m\u001b[1;33m.\u001b[0m\u001b[0mStudent_Info\u001b[0m\u001b[1;33m(\u001b[0m\u001b[1;33m)\u001b[0m\u001b[1;33m\u001b[0m\u001b[1;33m\u001b[0m\u001b[0m\n\u001b[0m",
      "\u001b[1;32m<ipython-input-9-ca2f6b90bb17>\u001b[0m in \u001b[0;36mStudent_Info\u001b[1;34m(*arg)\u001b[0m\n\u001b[0;32m     11\u001b[0m         \u001b[1;31m#Method\u001b[0m\u001b[1;33m\u001b[0m\u001b[1;33m\u001b[0m\u001b[1;33m\u001b[0m\u001b[0m\n\u001b[0;32m     12\u001b[0m         \u001b[1;32mfor\u001b[0m \u001b[0mi\u001b[0m \u001b[1;32min\u001b[0m \u001b[0marg\u001b[0m\u001b[1;33m:\u001b[0m\u001b[1;33m\u001b[0m\u001b[1;33m\u001b[0m\u001b[0m\n\u001b[1;32m---> 13\u001b[1;33m             \u001b[0mprint\u001b[0m\u001b[1;33m(\u001b[0m\u001b[1;34m\"My Student Name \\n  \"\u001b[0m\u001b[1;33m+\u001b[0m\u001b[0marg\u001b[0m\u001b[1;33m[\u001b[0m\u001b[0mi\u001b[0m\u001b[1;33m]\u001b[0m\u001b[1;33m)\u001b[0m\u001b[1;33m\u001b[0m\u001b[1;33m\u001b[0m\u001b[0m\n\u001b[0m\u001b[0;32m     14\u001b[0m \u001b[0mS1\u001b[0m\u001b[1;33m=\u001b[0m\u001b[0mStudent\u001b[0m\u001b[1;33m(\u001b[0m\u001b[1;34m\"ABC\"\u001b[0m\u001b[1;33m,\u001b[0m\u001b[1;36m20\u001b[0m\u001b[1;33m,\u001b[0m\u001b[1;34m\"Male\"\u001b[0m\u001b[1;33m,\u001b[0m\u001b[1;36m1234\u001b[0m\u001b[1;33m)\u001b[0m\u001b[1;33m\u001b[0m\u001b[1;33m\u001b[0m\u001b[0m\n\u001b[0;32m     15\u001b[0m \u001b[1;33m\u001b[0m\u001b[0m\n",
      "\u001b[1;31mTypeError\u001b[0m: tuple indices must be integers or slices, not Student"
     ]
    }
   ],
   "source": [
    "S1.Student_Info()\n",
    "## * arg isforonly Functions not for Class "
   ]
  },
  {
   "cell_type": "code",
   "execution_count": 15,
   "metadata": {},
   "outputs": [
    {
     "name": "stdout",
     "output_type": "stream",
     "text": [
      "345\n"
     ]
    }
   ],
   "source": [
    "# * arg for Function :\n",
    "def mysum(*integer):\n",
    "    result=0\n",
    "    for i in integer:\n",
    "        result+=i\n",
    "    return result\n",
    "print(mysum(255,32,24,34))"
   ]
  },
  {
   "cell_type": "code",
   "execution_count": 16,
   "metadata": {},
   "outputs": [
    {
     "name": "stdout",
     "output_type": "stream",
     "text": [
      "345\n"
     ]
    }
   ],
   "source": [
    "def mysum(*increment):\n",
    "    result=0\n",
    "    for i in increment:\n",
    "        result+=i\n",
    "    return result\n",
    "print(mysum(255,32,24,34))"
   ]
  },
  {
   "cell_type": "code",
   "execution_count": 17,
   "metadata": {},
   "outputs": [
    {
     "name": "stdout",
     "output_type": "stream",
     "text": [
      "345\n"
     ]
    }
   ],
   "source": [
    "def mysum(*args):\n",
    "    result=0\n",
    "    for i in args:\n",
    "        result+=i\n",
    "    return result\n",
    "print(mysum(255,32,24,34))"
   ]
  },
  {
   "cell_type": "code",
   "execution_count": 18,
   "metadata": {},
   "outputs": [
    {
     "name": "stdout",
     "output_type": "stream",
     "text": [
      "345\n"
     ]
    }
   ],
   "source": [
    "def mysum(*arw):\n",
    "    result=0\n",
    "    for i in arw:\n",
    "        result+=i\n",
    "    return result\n",
    "print(mysum(255,32,24,34))"
   ]
  },
  {
   "cell_type": "code",
   "execution_count": 19,
   "metadata": {},
   "outputs": [
    {
     "name": "stdout",
     "output_type": "stream",
     "text": [
      "RealPythonIsGreat!\n"
     ]
    }
   ],
   "source": [
    "def concatenate(**words):\n",
    "    result = \"\" \n",
    "    for arg in words.values():\n",
    "        result += arg \n",
    "    return result \n",
    "print(concatenate(a=\"Real\", b=\"Python\", c=\"Is\", d=\"Great\", e=\"!\"))"
   ]
  },
  {
   "cell_type": "code",
   "execution_count": 22,
   "metadata": {},
   "outputs": [
    {
     "name": "stdout",
     "output_type": "stream",
     "text": [
      "1\n",
      "2\n",
      "3\n",
      "4\n",
      "5\n",
      "6\n",
      "7\n",
      "8\n",
      "9\n",
      "45\n"
     ]
    }
   ],
   "source": [
    "def my_sum(*args):\n",
    "    result = 0 \n",
    "    for x in args:\n",
    "        print(x)\n",
    "        result += x \n",
    "    return result \n",
    "list1 = [1, 2, 3] \n",
    "list2 = [4, 5] \n",
    "list3 = [6, 7, 8, 9] \n",
    "print(my_sum(*list1, *list2, *list3))"
   ]
  },
  {
   "cell_type": "code",
   "execution_count": 27,
   "metadata": {},
   "outputs": [
    {
     "name": "stdout",
     "output_type": "stream",
     "text": [
      "1 2 3 4 5 [6, 7, 8, 9]\n"
     ]
    }
   ],
   "source": [
    "print(*list1,*list2,list3)"
   ]
  },
  {
   "cell_type": "code",
   "execution_count": 82,
   "metadata": {},
   "outputs": [],
   "source": [
    "#OOPS(object oriented programming ):\n",
    "# inheritence \n",
    "class polygon:\n",
    "    def __init__(self,no_of_slides):\n",
    "        \n",
    "        self.n = no_of_slides\n",
    "        self.sides = [0 for i in range(no_of_slides)]\n",
    "    \n",
    "    def inputSides(self):\n",
    "        #self.sides= [float(input(\"enter the Number of slides:\" + str(i+1)+ \":\") for i  in range(self.n))]\n",
    "        self.sides = [float(input(\"Enter no of sides:\"+str(i+1)+':'))for i in range(self.n)] \n",
    "    \n",
    "    def dispSides(self):\n",
    "        for i in range(self.n):\n",
    "            print(\"Sides \",i+1,\"is \",self.sides[i])           "
   ]
  },
  {
   "cell_type": "code",
   "execution_count": 83,
   "metadata": {},
   "outputs": [],
   "source": [
    "class Triangle(polygon):\n",
    "    def __init__(self):\n",
    "        polygon.__init__(self,3)\n",
    "    def findArea(self):\n",
    "        a,b,c=self.sides\n",
    "        s=(a+b+c)/2\n",
    "        area=(s*(s-a)*(s-b)*(s-c))**0.5\n",
    "        print(\"the area of a trangleis%0.2f\"%area)"
   ]
  },
  {
   "cell_type": "code",
   "execution_count": 84,
   "metadata": {},
   "outputs": [],
   "source": [
    "t =Triangle()"
   ]
  },
  {
   "cell_type": "code",
   "execution_count": 85,
   "metadata": {},
   "outputs": [
    {
     "name": "stdout",
     "output_type": "stream",
     "text": [
      "Sides  1 is  0\n",
      "Sides  2 is  0\n",
      "Sides  3 is  0\n"
     ]
    }
   ],
   "source": [
    "t.dispSides()"
   ]
  },
  {
   "cell_type": "code",
   "execution_count": 86,
   "metadata": {},
   "outputs": [
    {
     "name": "stdout",
     "output_type": "stream",
     "text": [
      "the area of a trangleis0.00\n"
     ]
    }
   ],
   "source": [
    "t.findArea()"
   ]
  },
  {
   "cell_type": "code",
   "execution_count": 87,
   "metadata": {},
   "outputs": [
    {
     "name": "stdin",
     "output_type": "stream",
     "text": [
      "Enter no of sides:1: 3\n",
      "Enter no of sides:2: 4\n",
      "Enter no of sides:3: 5\n"
     ]
    }
   ],
   "source": [
    "t.inputSides()"
   ]
  },
  {
   "cell_type": "code",
   "execution_count": 88,
   "metadata": {},
   "outputs": [
    {
     "name": "stdout",
     "output_type": "stream",
     "text": [
      "Sides  1 is  3.0\n",
      "Sides  2 is  4.0\n",
      "Sides  3 is  5.0\n"
     ]
    }
   ],
   "source": [
    "t.dispSides()"
   ]
  },
  {
   "cell_type": "code",
   "execution_count": 89,
   "metadata": {},
   "outputs": [
    {
     "name": "stdout",
     "output_type": "stream",
     "text": [
      "the area of a trangleis6.00\n"
     ]
    }
   ],
   "source": [
    "t.findArea()"
   ]
  },
  {
   "cell_type": "code",
   "execution_count": 90,
   "metadata": {},
   "outputs": [
    {
     "data": {
      "text/plain": [
       "[__main__.Triangle, __main__.polygon, object]"
      ]
     },
     "execution_count": 90,
     "metadata": {},
     "output_type": "execute_result"
    }
   ],
   "source": [
    "Triangle.mro()"
   ]
  },
  {
   "cell_type": "code",
   "execution_count": 91,
   "metadata": {},
   "outputs": [
    {
     "data": {
      "text/plain": [
       "[__main__.polygon, object]"
      ]
     },
     "execution_count": 91,
     "metadata": {},
     "output_type": "execute_result"
    }
   ],
   "source": [
    "polygon.mro()"
   ]
  },
  {
   "cell_type": "code",
   "execution_count": 98,
   "metadata": {},
   "outputs": [],
   "source": [
    "class Animal(object):\n",
    "    A=10\n",
    "    def __init__(self):\n",
    "        print(\"Animal created\")\n",
    "    def whoAMi(self):\n",
    "        print(\"Animal \")\n",
    "    def eat(self):\n",
    "        print(\"eating\")\n",
    "class Dog(Animal):\n",
    "    def __init__(self):\n",
    "        Animal.__init__(self)\n",
    "        print(\"Age of Animal\",Animal.A)\n",
    "        print(\"Dog Created\")\n",
    "    def whoAMI(self):\n",
    "        print(\"Dog\")\n",
    "    def bark(self):\n",
    "        print(\"woof\")\n",
    "        \n",
    "\n",
    "        "
   ]
  },
  {
   "cell_type": "code",
   "execution_count": 99,
   "metadata": {},
   "outputs": [
    {
     "name": "stdout",
     "output_type": "stream",
     "text": [
      "Animal created\n",
      "Age of Animal 10\n",
      "Dog Created\n"
     ]
    }
   ],
   "source": [
    "d = Dog()"
   ]
  },
  {
   "cell_type": "code",
   "execution_count": 100,
   "metadata": {},
   "outputs": [
    {
     "data": {
      "text/plain": [
       "10"
      ]
     },
     "execution_count": 100,
     "metadata": {},
     "output_type": "execute_result"
    }
   ],
   "source": [
    "# if you are cratingattributes outside of the INIT  Constructor.. we need to call such type of Attributes using Clas name \n",
    "\n",
    "Animal.A"
   ]
  },
  {
   "cell_type": "code",
   "execution_count": 102,
   "metadata": {},
   "outputs": [
    {
     "data": {
      "text/plain": [
       "10"
      ]
     },
     "execution_count": 102,
     "metadata": {},
     "output_type": "execute_result"
    }
   ],
   "source": [
    "d.A"
   ]
  },
  {
   "cell_type": "code",
   "execution_count": 105,
   "metadata": {},
   "outputs": [],
   "source": [
    "# MultipleIheritance:\n",
    "class x():\n",
    "    pass\n",
    "class y():\n",
    "    pass\n",
    "class z():\n",
    "    pass\n",
    "class A(x,y):\n",
    "    pass\n",
    "class B(y,z):\n",
    "    pass\n",
    "class M(A,B,z):\n",
    "    pass"
   ]
  },
  {
   "cell_type": "code",
   "execution_count": 106,
   "metadata": {},
   "outputs": [
    {
     "data": {
      "text/plain": [
       "[__main__.M,\n",
       " __main__.A,\n",
       " __main__.x,\n",
       " __main__.B,\n",
       " __main__.y,\n",
       " __main__.z,\n",
       " object]"
      ]
     },
     "execution_count": 106,
     "metadata": {},
     "output_type": "execute_result"
    }
   ],
   "source": [
    "M.mro()"
   ]
  },
  {
   "cell_type": "code",
   "execution_count": 107,
   "metadata": {},
   "outputs": [
    {
     "data": {
      "text/plain": [
       "<__main__.D at 0x1cb4b953ac8>"
      ]
     },
     "execution_count": 107,
     "metadata": {},
     "output_type": "execute_result"
    }
   ],
   "source": [
    "class A:\n",
    "    def explore(self):\n",
    "        print(\"explore method calling \")\n",
    "class B:\n",
    "    def serch(self):\n",
    "        print(\"search method calling \")\n",
    "class c:\n",
    "    def discover(self):\n",
    "        print (\"discover method calling \")\n",
    "class D(A,B,c):\n",
    "    def test(self):\n",
    "        print(\"test method\")\n",
    "d_obj=D()\n",
    "d_obj"
   ]
  },
  {
   "cell_type": "code",
   "execution_count": 109,
   "metadata": {},
   "outputs": [
    {
     "name": "stdout",
     "output_type": "stream",
     "text": [
      "discover method calling \n"
     ]
    }
   ],
   "source": [
    "d_obj.discover()"
   ]
  },
  {
   "cell_type": "code",
   "execution_count": 111,
   "metadata": {},
   "outputs": [
    {
     "name": "stdout",
     "output_type": "stream",
     "text": [
      "search method calling \n"
     ]
    }
   ],
   "source": [
    "d_obj.serch()"
   ]
  },
  {
   "cell_type": "code",
   "execution_count": 119,
   "metadata": {},
   "outputs": [],
   "source": [
    "# special constructors\n",
    "class book(object):\n",
    "    \n",
    "    def __init__(self,title,authour,pages,year):\n",
    "\n",
    "        \"\"\"this is methos the __init___(),__str__() ,__len__() and the __del__() methods\"\"\"\n",
    "        print(\"A book is created\")\n",
    "        self.title=title\n",
    "        self.authour=authour\n",
    "        self.pages=pages\n",
    "        self.year=year\n",
    "    def __str__(self):\n",
    "        return \"title is %s,authour :%s,pages:%s Year is :%s\"%(self.title,self.authour,self.pages,self.year)\n",
    "    def __len__(self):\n",
    "        return self.pages\n",
    "    def __del__(self):\n",
    "        print(\"A bookis destroyed\")\n"
   ]
  },
  {
   "cell_type": "code",
   "execution_count": 120,
   "metadata": {},
   "outputs": [
    {
     "name": "stdout",
     "output_type": "stream",
     "text": [
      "A book is created\n"
     ]
    }
   ],
   "source": [
    "book=book(\"python rocks\",\"jose portalia\",159,2000)"
   ]
  },
  {
   "cell_type": "code",
   "execution_count": 121,
   "metadata": {},
   "outputs": [
    {
     "data": {
      "text/plain": [
       "<__main__.book at 0x1cb4b85fb70>"
      ]
     },
     "execution_count": 121,
     "metadata": {},
     "output_type": "execute_result"
    }
   ],
   "source": [
    "book"
   ]
  },
  {
   "cell_type": "code",
   "execution_count": 123,
   "metadata": {},
   "outputs": [
    {
     "name": "stdout",
     "output_type": "stream",
     "text": [
      "title is python rocks,authour :jose portalia,pages:159 Year is :2000\n"
     ]
    }
   ],
   "source": [
    "print(book)"
   ]
  },
  {
   "cell_type": "code",
   "execution_count": 124,
   "metadata": {},
   "outputs": [
    {
     "name": "stdout",
     "output_type": "stream",
     "text": [
      "159\n"
     ]
    }
   ],
   "source": [
    "print(len(book))"
   ]
  },
  {
   "cell_type": "code",
   "execution_count": 129,
   "metadata": {},
   "outputs": [],
   "source": [
    "class india():\n",
    "    def capital(self):\n",
    "        print(\"new delhi is capitalof india\")\n",
    "    def language(self):\n",
    "        print(\"hindi the primary language\")\n",
    "    def types(self):\n",
    "        print(\"india  ia a developping country \")\n",
    "class USA:\n",
    "    def capital(self):\n",
    "        print(\"Wshington is a capital\")\n",
    "    def language(self):\n",
    "        print(\"English ia theprimary Language\")\n",
    "    def types(self):\n",
    "        print(\"ISA is a developed Country \")"
   ]
  },
  {
   "cell_type": "code",
   "execution_count": 130,
   "metadata": {},
   "outputs": [],
   "source": [
    "obj_ind=india()\n",
    "obj_usa=USA()"
   ]
  },
  {
   "cell_type": "code",
   "execution_count": 131,
   "metadata": {},
   "outputs": [
    {
     "name": "stdout",
     "output_type": "stream",
     "text": [
      "new delhi is capitalof india\n",
      "hindi the primary language\n",
      "india  ia a developping country \n",
      "Wshington is a capital\n",
      "English ia theprimary Language\n",
      "ISA is a developed Country \n"
     ]
    }
   ],
   "source": [
    "for country in (obj_ind,obj_usa):\n",
    "    country.capital()\n",
    "    country.language()\n",
    "    country.types()"
   ]
  },
  {
   "cell_type": "code",
   "execution_count": 139,
   "metadata": {},
   "outputs": [
    {
     "name": "stdout",
     "output_type": "stream",
     "text": [
      "-2\n"
     ]
    }
   ],
   "source": [
    "def  func(var1,var2,var3):\n",
    "    if(var1<=var2):\n",
    "        if(var3>=var2):\n",
    "            if(var1+var2>var3):\n",
    "                print(-1)\n",
    "            else:\n",
    "                print(-2)\n",
    "        else:\n",
    "            if(var1+var3>var2):\n",
    "                print(-3)\n",
    "            else:\n",
    "                print(-4)\n",
    "func(156,2100,9500)                    \n",
    "                    \n",
    "                    \n",
    "                    \n",
    "                "
   ]
  },
  {
   "cell_type": "code",
   "execution_count": 155,
   "metadata": {},
   "outputs": [
    {
     "ename": "AttributeError",
     "evalue": "'int' object has no attribute 'get_data'",
     "output_type": "error",
     "traceback": [
      "\u001b[1;31m---------------------------------------------------------------------------\u001b[0m",
      "\u001b[1;31mAttributeError\u001b[0m                            Traceback (most recent call last)",
      "\u001b[1;32m<ipython-input-155-ba9b2b11c6a4>\u001b[0m in \u001b[0;36m<module>\u001b[1;34m\u001b[0m\n\u001b[0;32m     13\u001b[0m     \u001b[0mtemp\u001b[0m\u001b[1;33m.\u001b[0m\u001b[0mset_data\u001b[0m\u001b[1;33m(\u001b[0m\u001b[0mtemp1\u001b[0m\u001b[1;33m)\u001b[0m\u001b[1;33m\u001b[0m\u001b[1;33m\u001b[0m\u001b[0m\n\u001b[0;32m     14\u001b[0m \u001b[1;31m#ead= [1,4,6,7,9]\u001b[0m\u001b[1;33m\u001b[0m\u001b[1;33m\u001b[0m\u001b[1;33m\u001b[0m\u001b[0m\n\u001b[1;32m---> 15\u001b[1;33m \u001b[0mfunc\u001b[0m\u001b[1;33m(\u001b[0m\u001b[1;36m1\u001b[0m\u001b[1;33m,\u001b[0m\u001b[1;36m5\u001b[0m\u001b[1;33m)\u001b[0m\u001b[1;33m\u001b[0m\u001b[1;33m\u001b[0m\u001b[0m\n\u001b[0m",
      "\u001b[1;32m<ipython-input-155-ba9b2b11c6a4>\u001b[0m in \u001b[0;36mfunc\u001b[1;34m(head, num)\u001b[0m\n\u001b[0;32m      6\u001b[0m         \u001b[0mindex\u001b[0m\u001b[1;33m=\u001b[0m\u001b[1;36m1\u001b[0m\u001b[1;33m\u001b[0m\u001b[1;33m\u001b[0m\u001b[0m\n\u001b[0;32m      7\u001b[0m     \u001b[1;32mwhile\u001b[0m\u001b[1;33m(\u001b[0m\u001b[0mindex\u001b[0m\u001b[1;33m<\u001b[0m\u001b[0mnum\u001b[0m\u001b[1;33m)\u001b[0m\u001b[1;33m:\u001b[0m\u001b[1;33m\u001b[0m\u001b[1;33m\u001b[0m\u001b[0m\n\u001b[1;32m----> 8\u001b[1;33m             \u001b[0mval\u001b[0m\u001b[1;33m=\u001b[0m\u001b[0mtemp\u001b[0m\u001b[1;33m.\u001b[0m\u001b[0mget_data\u001b[0m\u001b[1;33m(\u001b[0m\u001b[1;33m)\u001b[0m\u001b[1;33m\u001b[0m\u001b[1;33m\u001b[0m\u001b[0m\n\u001b[0m\u001b[0;32m      9\u001b[0m             \u001b[0mtemp\u001b[0m\u001b[1;33m=\u001b[0m\u001b[0mtemp\u001b[0m\u001b[1;33m.\u001b[0m\u001b[0mget_next\u001b[0m\u001b[1;33m(\u001b[0m\u001b[1;33m)\u001b[0m\u001b[1;33m\u001b[0m\u001b[1;33m\u001b[0m\u001b[0m\n\u001b[0;32m     10\u001b[0m             \u001b[0mhead\u001b[0m\u001b[1;33m.\u001b[0m\u001b[0mset_data\u001b[0m\u001b[1;33m(\u001b[0m\u001b[0mval\u001b[0m\u001b[1;33m)\u001b[0m\u001b[1;33m\u001b[0m\u001b[1;33m\u001b[0m\u001b[0m\n",
      "\u001b[1;31mAttributeError\u001b[0m: 'int' object has no attribute 'get_data'"
     ]
    }
   ],
   "source": [
    "def func(head, num):\n",
    "    temp=head\n",
    "    if(head==None):\n",
    "        return\n",
    "    else:\n",
    "        index=1\n",
    "    while(index<num):\n",
    "            val=temp.get_data()\n",
    "            temp=temp.get_next()\n",
    "            head.set_data(val)\n",
    "            index +=1\n",
    "    temp1=head.get_data()\n",
    "    temp.set_data(temp1)\n",
    "#ead= [1,4,6,7,9]\n",
    "func(1,5)"
   ]
  },
  {
   "cell_type": "code",
   "execution_count": 156,
   "metadata": {},
   "outputs": [
    {
     "ename": "NameError",
     "evalue": "name 'ABCmeta' is not defined",
     "output_type": "error",
     "traceback": [
      "\u001b[1;31m---------------------------------------------------------------------------\u001b[0m",
      "\u001b[1;31mNameError\u001b[0m                                 Traceback (most recent call last)",
      "\u001b[1;32m<ipython-input-156-efc21ca72ab2>\u001b[0m in \u001b[0;36m<module>\u001b[1;34m\u001b[0m\n\u001b[1;32m----> 1\u001b[1;33m \u001b[1;32mclass\u001b[0m \u001b[0mshape\u001b[0m\u001b[1;33m(\u001b[0m\u001b[0mmetaclass\u001b[0m\u001b[1;33m=\u001b[0m\u001b[0mABCmeta\u001b[0m\u001b[1;33m)\u001b[0m\u001b[1;33m:\u001b[0m\u001b[1;33m\u001b[0m\u001b[1;33m\u001b[0m\u001b[0m\n\u001b[0m\u001b[0;32m      2\u001b[0m     \u001b[1;32mdef\u001b[0m \u001b[0m__init__\u001b[0m\u001b[1;33m(\u001b[0m\u001b[0mself\u001b[0m\u001b[1;33m)\u001b[0m\u001b[1;33m:\u001b[0m\u001b[1;33m\u001b[0m\u001b[1;33m\u001b[0m\u001b[0m\n\u001b[0;32m      3\u001b[0m         \u001b[0mprint\u001b[0m\u001b[1;33m(\u001b[0m\u001b[1;34m\"iamin  init\"\u001b[0m\u001b[1;33m)\u001b[0m\u001b[1;33m\u001b[0m\u001b[1;33m\u001b[0m\u001b[0m\n\u001b[0;32m      4\u001b[0m     \u001b[1;32mdef\u001b[0m \u001b[0mdraw_shape\u001b[0m\u001b[1;33m(\u001b[0m\u001b[0mself\u001b[0m\u001b[1;33m)\u001b[0m\u001b[1;33m:\u001b[0m\u001b[1;33m\u001b[0m\u001b[1;33m\u001b[0m\u001b[0m\n\u001b[0;32m      5\u001b[0m         \u001b[1;32mpass\u001b[0m\u001b[1;33m\u001b[0m\u001b[1;33m\u001b[0m\u001b[0m\n",
      "\u001b[1;31mNameError\u001b[0m: name 'ABCmeta' is not defined"
     ]
    }
   ],
   "source": [
    "class shape(metaclass=ABCmeta):\n",
    "    def __init__(self):\n",
    "        print(\"iamin  init\")\n",
    "    def draw_shape(self):\n",
    "        pass\n",
    "    def set_colour(self):\n",
    "        pass\n",
    "class circle(shape):\n",
    "    def draw_shape(self):\n",
    "        print(\"draw circle\")"
   ]
  },
  {
   "cell_type": "code",
   "execution_count": 160,
   "metadata": {},
   "outputs": [
    {
     "name": "stdout",
     "output_type": "stream",
     "text": [
      "16\n"
     ]
    }
   ],
   "source": [
    "def fun(num):\n",
    "    if num<1:\n",
    "        return 0\n",
    "    elif num%2==0:\n",
    "        return fun(num-1)\n",
    "    else:\n",
    "        return num+fun(num-2)\n",
    "print(fun(8))"
   ]
  },
  {
   "cell_type": "code",
   "execution_count": 162,
   "metadata": {},
   "outputs": [
    {
     "name": "stdout",
     "output_type": "stream",
     "text": [
      "*\n",
      "*\n",
      "*\n",
      "*\n",
      "*\n",
      "*\n",
      "*\n"
     ]
    }
   ],
   "source": [
    "num1=5\n",
    "num2=4\n",
    "while(num2>=1):\n",
    "    print(\"*\")\n",
    "    for index in range(1,num1+1):\n",
    "        print(\"*\")\n",
    "        num2 -=1\n",
    "    print(\"*\")\n",
    "    "
   ]
  },
  {
   "cell_type": "code",
   "execution_count": 163,
   "metadata": {},
   "outputs": [],
   "source": [
    "class classone:\n",
    "    __var_one=1001\n",
    "    def __init__(self,var_two):\n",
    "        self.__var_two=var_two\n",
    "        self.__var_five=5\n",
    "    def method(self):\n",
    "        var_four=50\n",
    "        self.__var_five=classone,__var_one+self.__var_two+var_four\n",
    "        \n",
    " #instand, static, local variables       "
   ]
  },
  {
   "cell_type": "code",
   "execution_count": 165,
   "metadata": {},
   "outputs": [
    {
     "name": "stdout",
     "output_type": "stream",
     "text": [
      "red 4\n",
      "blue 80\n"
     ]
    }
   ],
   "source": [
    "class vehicle:\n",
    "    def __init__(self,colour):\n",
    "        self.colour=colour\n",
    "        \n",
    "class fourwheeler(vehicle):\n",
    "        def __init__(self,gears,colour):\n",
    "            super().__init__(colour)\n",
    "            self.gears=gears\n",
    "class twowhheler(vehicle):\n",
    "    def __init__(self,engine):\n",
    "        super().__init__(\"Red\")\n",
    "        self.engine=engine\n",
    "        self.colour=\"blue\"\n",
    "maruti=fourwheeler(4,\"red\")\n",
    "print(maruti.colour,maruti.gears)\n",
    "activa=twowhheler(80)\n",
    "print(activa.colour,activa.engine)"
   ]
  },
  {
   "cell_type": "code",
   "execution_count": 168,
   "metadata": {},
   "outputs": [
    {
     "ename": "SyntaxError",
     "evalue": "can't assign to function call (<ipython-input-168-a25515204411>, line 2)",
     "output_type": "error",
     "traceback": [
      "\u001b[1;36m  File \u001b[1;32m\"<ipython-input-168-a25515204411>\"\u001b[1;36m, line \u001b[1;32m2\u001b[0m\n\u001b[1;33m    h(k)=k%4\u001b[0m\n\u001b[1;37m            ^\u001b[0m\n\u001b[1;31mSyntaxError\u001b[0m\u001b[1;31m:\u001b[0m can't assign to function call\n"
     ]
    }
   ],
   "source": [
    "k=4\n",
    "h(k)=k%4"
   ]
  },
  {
   "cell_type": "code",
   "execution_count": null,
   "metadata": {},
   "outputs": [],
   "source": []
  },
  {
   "cell_type": "code",
   "execution_count": null,
   "metadata": {},
   "outputs": [],
   "source": []
  }
 ],
 "metadata": {
  "kernelspec": {
   "display_name": "Python 3",
   "language": "python",
   "name": "python3"
  },
  "language_info": {
   "codemirror_mode": {
    "name": "ipython",
    "version": 3
   },
   "file_extension": ".py",
   "mimetype": "text/x-python",
   "name": "python",
   "nbconvert_exporter": "python",
   "pygments_lexer": "ipython3",
   "version": "3.6.8"
  }
 },
 "nbformat": 4,
 "nbformat_minor": 4
}
